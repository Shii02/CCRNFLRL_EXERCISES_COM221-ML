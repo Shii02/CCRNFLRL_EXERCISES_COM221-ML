{
  "cells": [
    {
      "cell_type": "markdown",
      "metadata": {
        "id": "view-in-github"
      },
      "source": [
        "<a href=\"https://colab.research.google.com/github/robitussin/CCRNFLRL_EXERCISES/blob/main/Exercise2.ipynb\" target=\"_parent\"><img src=\"https://colab.research.google.com/assets/colab-badge.svg\" alt=\"Open In Colab\"/></a>"
      ]
    },
    {
      "cell_type": "markdown",
      "metadata": {
        "id": "gh4_1T3XTRg6"
      },
      "source": [
        "# Exercise 2"
      ]
    },
    {
      "cell_type": "code",
      "execution_count": 210,
      "metadata": {
        "id": "-6zwzOH0TMq0"
      },
      "outputs": [],
      "source": [
        "from math import sqrt, log\n",
        "import pandas as pd"
      ]
    },
    {
      "cell_type": "markdown",
      "metadata": {
        "id": "kZCcIK8dTkot"
      },
      "source": [
        "## Step 1: Enter your data\n",
        "\n",
        "Add a new row after each pull: Pull number, Machine played (\"A\", \"B\", \"C\"), and Reward earned."
      ]
    },
    {
      "cell_type": "code",
      "execution_count": 211,
      "metadata": {
        "id": "_XJg9sNjTP9s"
      },
      "outputs": [],
      "source": [
        "# data = pd.DataFrame({\n",
        "#     \"Pull\": [1, 2, 3, 4, 5, 6, 7, 8, 9, 10, 11, 12, 13, 14, 15, 16, 17, 18, 19, 20],          # Pull number\n",
        "#     \"Machine\": [\"A\", \"B\", \"C\", \"A\", \"B\", \"C\", \"A\", \"A\", \"A\", \"A\", \"A\", \"A\", \"A\", \"A\",\n",
        "#     \"A\", \"B\", \"C\", \"A\", \"A\", \"A\"], # Which machine was played\n",
        "#     \"Reward\": [0, 0, 0, 0, 0, 0, 5, 2, 0, 0, 0, 0, 1, 1, 1, 0, 0, 0, 5, 0]         # Reward received from that machine\n",
        "# })"
      ]
    },
    {
      "cell_type": "code",
      "execution_count": 212,
      "metadata": {},
      "outputs": [
        {
          "name": "stdout",
          "output_type": "stream",
          "text": [
            "    Pull Machine  Reward\n",
            "0      1       A       0\n",
            "1      2       B       0\n",
            "2      3       C       0\n",
            "3      4       A       0\n",
            "4      5       B       0\n",
            "5      6       C       0\n",
            "6      7       A       5\n",
            "7      8       A       2\n",
            "8      9       A       0\n",
            "9     10       A       0\n",
            "10    11       A       0\n",
            "11    12       A       0\n",
            "12    13       A       1\n",
            "13    14       A       1\n",
            "14    15       A       1\n",
            "15    16       B       0\n",
            "16    17       C       0\n",
            "17    18       A       0\n",
            "18    19       A       5\n",
            "19    20       A       0\n",
            "20    21       A       0\n",
            "21    22       A      10\n",
            "22    23       A       0\n",
            "23    24       A       0\n",
            "24    25       A       2\n",
            "25    26       A       0\n",
            "26    27       A       0\n",
            "27    28       A       0\n",
            "28    29       A       0\n",
            "29    30       A       1\n",
            "30    31       A       1\n",
            "31    32       A       0\n",
            "32    33       A       0\n",
            "33    34       A       0\n",
            "34    35       A       0\n",
            "35    36       B       0\n",
            "36    37       C       5\n",
            "37    38       C       5\n",
            "38    39       C       0\n",
            "39    40       C       0\n",
            "40    41       C       0\n",
            "41    42       C       0\n",
            "42    43       C       0\n",
            "43    44       C       2\n",
            "44    45       C       0\n",
            "45    46       C       0\n",
            "46    47       C       0\n",
            "47    48       C       0\n",
            "48    49       C       0\n",
            "49    50       A       0\n"
          ]
        }
      ],
      "source": [
        "import pandas as pd\n",
        "\n",
        "# Read Excel file\n",
        "df_excel = pd.read_excel(\"slot_machine_tracker.xlsx\")  # Replace with your actual file path\n",
        "\n",
        "# Create the desired DataFrame structure\n",
        "data = pd.DataFrame({\n",
        "    \"Pull\": df_excel.iloc[:, 0],    # First column\n",
        "    \"Machine\": df_excel.iloc[:, 1], # Second column\n",
        "    \"Reward\": df_excel.iloc[:, 2]   # Third column\n",
        "})\n",
        "\n",
        "print(data)"
      ]
    },
    {
      "cell_type": "markdown",
      "metadata": {
        "id": "9pAruytjTt-b"
      },
      "source": [
        "# Step 2: Calculate UCB"
      ]
    },
    {
      "cell_type": "code",
      "execution_count": 213,
      "metadata": {
        "id": "7iyebQ41S3pA"
      },
      "outputs": [],
      "source": [
        "def calculate_ucb(df):\n",
        "    results = []\n",
        "    total_pulls = len(df)\n",
        "    machines = sorted(df[\"Machine\"].unique())\n",
        "\n",
        "    for machine in machines:\n",
        "        machine_data = df[df[\"Machine\"] == machine]\n",
        "        n_j = len(machine_data)\n",
        "        avg_reward = machine_data[\"Reward\"].mean()\n",
        "        exploration_bonus = sqrt((2 * log(total_pulls)) / n_j) if n_j > 0 else float(\"inf\")\n",
        "        ucb_score = avg_reward + exploration_bonus\n",
        "        results.append({\n",
        "            \"Machine\": machine,\n",
        "            \"Pulls\": n_j,\n",
        "            \"Avg Reward\": round(avg_reward, 2),\n",
        "            \"Exploration Bonus\": round(exploration_bonus, 4),\n",
        "            \"UCB Score\": round(ucb_score, 4)\n",
        "        })\n",
        "    return pd.DataFrame(results).sort_values(by=\"UCB Score\", ascending=False)"
      ]
    },
    {
      "cell_type": "markdown",
      "metadata": {
        "id": "GmVaGjpdT4eA"
      },
      "source": [
        "\n",
        "# Step 3: Calculate and display\n"
      ]
    },
    {
      "cell_type": "code",
      "execution_count": 214,
      "metadata": {
        "colab": {
          "base_uri": "https://localhost:8080/"
        },
        "id": "ZXBIvOEVTVND",
        "outputId": "34dd8fcd-2aa1-433a-ec8a-5dcca95a3d6a"
      },
      "outputs": [
        {
          "name": "stdout",
          "output_type": "stream",
          "text": [
            "📊 UCB Results Table\n",
            "  Machine  Pulls  Avg Reward  Exploration Bonus  UCB Score\n",
            "0       A     30        0.97             0.5107     1.4774\n",
            "2       C     16        0.75             0.6993     1.4493\n",
            "1       B      4        0.00             1.3986     1.3986\n"
          ]
        }
      ],
      "source": [
        "ucb_table = calculate_ucb(data)\n",
        "print(\"📊 UCB Results Table\")\n",
        "print(ucb_table)"
      ]
    },
    {
      "cell_type": "markdown",
      "metadata": {
        "id": "YURFdhQmUCjl"
      },
      "source": [
        "# Step 4: Next machine suggestion"
      ]
    },
    {
      "cell_type": "code",
      "execution_count": 215,
      "metadata": {
        "colab": {
          "base_uri": "https://localhost:8080/"
        },
        "id": "XufYOkGET_l-",
        "outputId": "4659e6dc-0894-4bd3-8f1b-f7dc7f39099b"
      },
      "outputs": [
        {
          "name": "stdout",
          "output_type": "stream",
          "text": [
            "\n",
            "🎯 Recommended next machine to play: A\n"
          ]
        }
      ],
      "source": [
        "best_machine = ucb_table.iloc[0][\"Machine\"]\n",
        "print(f\"\\n🎯 Recommended next machine to play: {best_machine}\")"
      ]
    },
    {
      "cell_type": "markdown",
      "metadata": {},
      "source": [
        "### Conclusion\n",
        "\n",
        "After pulling to 3 different machine 50 times, machine A and C has a UCB Score of 1.4774 and 1.4493 respectively and machine B has a UCB Score of 1.3986. This means machine A and C are more likely has a chance of gaining a reward than machine B. Additionally, the average reward of 3 different machine are: machine A has 0.97, machine C has 0.75, and machine B has 0. This means that machine A has the biggest reward to be gained, machine B being the second, and machine C has more likely no rewards to be gained."
      ]
    }
  ],
  "metadata": {
    "colab": {
      "provenance": []
    },
    "kernelspec": {
      "display_name": "COM222ML",
      "language": "python",
      "name": "python3"
    },
    "language_info": {
      "codemirror_mode": {
        "name": "ipython",
        "version": 3
      },
      "file_extension": ".py",
      "mimetype": "text/x-python",
      "name": "python",
      "nbconvert_exporter": "python",
      "pygments_lexer": "ipython3",
      "version": "3.12.9"
    }
  },
  "nbformat": 4,
  "nbformat_minor": 0
}
